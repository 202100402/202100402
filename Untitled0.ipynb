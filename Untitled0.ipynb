{
  "nbformat": 4,
  "nbformat_minor": 0,
  "metadata": {
    "colab": {
      "provenance": [],
      "authorship_tag": "ABX9TyMaoDGEHb+HT/bHB6YwXSoE",
      "include_colab_link": true
    },
    "kernelspec": {
      "name": "python3",
      "display_name": "Python 3"
    },
    "language_info": {
      "name": "python"
    }
  },
  "cells": [
    {
      "cell_type": "markdown",
      "metadata": {
        "id": "view-in-github",
        "colab_type": "text"
      },
      "source": [
        "<a href=\"https://colab.research.google.com/github/202100402/202100402/blob/main/Untitled0.ipynb\" target=\"_parent\"><img src=\"https://colab.research.google.com/assets/colab-badge.svg\" alt=\"Open In Colab\"/></a>"
      ]
    },
    {
      "cell_type": "code",
      "execution_count": null,
      "metadata": {
        "id": "z8VwfoA6V-e9"
      },
      "outputs": [],
      "source": [
        "#202100402 권하늘\n",
        "\n",
        "#1\n",
        "a=1\n",
        "b=2\n",
        "print(a+b)"
      ]
    },
    {
      "cell_type": "code",
      "source": [
        "#202100402 권하늘\n",
        "\n",
        "#3\n",
        "x = int (input('숫자를 입력하세요.:'))\n",
        "if x == int(x) <= 30:\n",
        "  for y in range (1, x+1):\n",
        "    for z in range (1, y+1):\n",
        "        print(z,end=\"\")\n",
        "    print()\n",
        "\n",
        "elif x == int(x) >= 30:\n",
        "     print('너무 많다.')\n"
      ],
      "metadata": {
        "id": "px7CSuWKXCa6"
      },
      "execution_count": null,
      "outputs": []
    },
    {
      "cell_type": "code",
      "source": [
        "#202100402 권하늘\n",
        "\n",
        "#4\n",
        " x = str(input(\"숫자를 입력하시오: \"))\n",
        "if x.isdecimal():\n",
        "  x = int(x)\n",
        "  if x <= 30:\n",
        "    for a in range(1, x + 1):\n",
        "      for b in range(1, a + 1):\n",
        "        print(b,end=\"\")\n",
        "      print()\n",
        "  else:\n",
        "    print(\"너무 많습니다\")\n",
        "else:\n",
        "  print(\"정수를 입력해 주세요\")\n"
      ],
      "metadata": {
        "id": "9clUowngXMS3"
      },
      "execution_count": null,
      "outputs": []
    }
  ]
}